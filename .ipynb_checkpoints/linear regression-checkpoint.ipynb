{
 "cells": [
  {
   "cell_type": "code",
   "execution_count": null,
   "metadata": {},
   "outputs": [],
   "source": [
    "# importing linear regression function\n",
    "import sklearn.linear_model as lm\n",
    "# Create linear regression object\n",
    "lr = lm.LinearRegression()\n",
    "x= df.Hours_Studied[:, np.newaxis] # independent variable\n",
    "y= df.Test_Grade.values # dependent variable\n",
    "# Train the model using the training sets\n",
    "lr.fit(x, y)\n",
    "print \"Intercept: \", lr.intercept_\n",
    "print \"Coefficient: \", lr.coef_\n",
    "# manual prediction for a given value of x\n",
    "print \"Manual prdiction :\", 52.2928994083 + 4.74260355*6\n",
    "# predict using the built-in function\n",
    "print \"Using predict function: \", lr.predict(6)\n",
    "# plotting fitted line\n",
    "plt.scatter(x, y, color='black')\n",
    "plt.plot(x, lr.predict(x), color='blue', linewidth=3)\n",
    "plt.title('Grade vs Hours Studied')\n",
    "plt.ylabel('Test_Grade')\n",
    "plt.xlabel('Hours_Studied')\n",
    "\n",
    "# function to calculate r-squared, MAE, RMSE\n",
    "from sklearn.metrics import r2_score , mean_absolute_error, mean_squared_error\n",
    "# add predict value to the data frame\n",
    "df['Test_Grade_Pred'] = lr.predict(x)\n",
    "# Manually calculating R Squared\n",
    "df['SST'] = np.square(df['Test_Grade'] - df['Test_Grade'].mean())\n",
    "df['SSR'] = np.square(df['Test_Grade_Pred'] - df['Test_Grade'].mean())\n",
    "print \"Sum of SSR:\", df['SSR'].sum()\n",
    "print \"Sum of SST:\", df['SST'].sum()\n",
    "print \"R Squared using manual calculation: \", df['SSR'].sum() / df['SST'].sum()\n",
    "# Using built-in function\n",
    "print \"R Squared using built-in function: \", r2_score(df.Test_Grade, y)\n",
    "print \"Mean Absolute Error: \", mean_absolute_error(df.Test_Grade, df.Test_\n",
    "Grade_Pred)\n",
    "print \"Root Mean Squared Error: \", np.sqrt(mean_squared_error(df.Test_Grade, \n",
    "df.Test_Grade_Pred))"
   ]
  }
 ],
 "metadata": {
  "kernelspec": {
   "display_name": "Python 3",
   "language": "python",
   "name": "python3"
  },
  "language_info": {
   "codemirror_mode": {
    "name": "ipython",
    "version": 3
   },
   "file_extension": ".py",
   "mimetype": "text/x-python",
   "name": "python",
   "nbconvert_exporter": "python",
   "pygments_lexer": "ipython3",
   "version": "3.7.4"
  }
 },
 "nbformat": 4,
 "nbformat_minor": 2
}
